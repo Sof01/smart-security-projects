{
 "cells": [
  {
   "cell_type": "code",
   "execution_count": null,
   "id": "694c9f6e-2f7b-4aa1-be2c-66ca416f5b4e",
   "metadata": {},
   "outputs": [],
   "source": [
    "import zipfile\n",
    "import os\n",
    "import numpy as np\n",
    "from sklearn.model_selection import train_test_split\n",
    "from sklearn.pipeline import make_pipeline, FeatureUnion\n",
    "from sklearn.feature_extraction.text import TfidfVectorizer\n",
    "from sklearn.naive_bayes import MultinomialNB, ComplementNB, BernoulliNB\n",
    "from sklearn.linear_model import LogisticRegression, SGDClassifier\n",
    "from sklearn.metrics import balanced_accuracy_score\n",
    "from sklearn.svm import LinearSVC\n",
    "from sklearn.model_selection import cross_val_score\n",
    "\n",
    "z = zipfile.ZipFile(\"spam1-train.zip\")\n",
    "\n",
    "emails, labels = [], []\n",
    "\n",
    "for name in z.namelist():\n",
    "    # Labeldatei überspringen\n",
    "    if name.endswith(\".labels\"):\n",
    "        continue\n",
    "    base = os.path.basename(name)\n",
    "    if not (base.endswith(\".0\") or base.endswith(\".1\")):\n",
    "        continue\n",
    "    lab = int(base.split(\".\")[-1])\n",
    "    txt = z.read(name).decode(\"utf-8\", errors=\"ignore\").lower()\n",
    "    emails.append(txt)\n",
    "    labels.append(lab)\n",
    "\n",
    "labels = np.array(labels)"
   ]
  },
  {
   "cell_type": "code",
   "execution_count": null,
   "id": "0742c8a2-36db-490b-8703-ea3c53563d56",
   "metadata": {},
   "outputs": [],
   "source": [
    "# Pipeline: TF-IDF (Wort + Zeichen) -> LinearSVC()\n",
    "vect_word = TfidfVectorizer(analyzer=\"word\", ngram_range=(1, 2), min_df=2)\n",
    "vect_char = TfidfVectorizer(analyzer=\"char_wb\", ngram_range=(3, 5), min_df=2)\n",
    "features = FeatureUnion([(\"w\", vect_word), (\"c\", vect_char)])\n",
    "pipe = make_pipeline(features, LinearSVC())"
   ]
  },
  {
   "cell_type": "code",
   "execution_count": null,
   "id": "ca12dbd7-5811-4ecf-bc4f-4897249ef78e",
   "metadata": {},
   "outputs": [],
   "source": [
    "# models = {\n",
    "#     \"MultinomialNB\": MultinomialNB(),\n",
    "#     \"ComplementNB\": ComplementNB(),\n",
    "#     \"BernoulliNB\": BernoulliNB(),\n",
    "#     \"LogisticRegression\": LogisticRegression(max_iter=1000),\n",
    "#     \"SGD (log)\": SGDClassifier(loss=\"log_loss\", max_iter=1000),\n",
    "#     \"SGD (hinge)\": SGDClassifier(loss=\"hinge\", max_iter=1000),\n",
    "#     \"LinearSVC\": LinearSVC()\n",
    "# }"
   ]
  },
  {
   "cell_type": "code",
   "execution_count": null,
   "id": "a9f25f65-a3f6-4c3a-8cca-668450ef7f7d",
   "metadata": {},
   "outputs": [],
   "source": [
    "# # Validierungstest\n",
    "# X_tr, X_val, y_tr, y_val = train_test_split(\n",
    "#     emails, labels, test_size=0.2, random_state=42, stratify=labels\n",
    "# )\n",
    "# pipe.fit(X_tr, y_tr)\n",
    "# print(\"BACC:\", balanced_accuracy_score(y_val, pipe.predict(X_val)))"
   ]
  },
  {
   "cell_type": "code",
   "execution_count": null,
   "id": "bd9c86c9-8b7e-4423-a6d9-314c7cf22ef8",
   "metadata": {},
   "outputs": [],
   "source": [
    "# # Daten\n",
    "# X, y = emails, labels\n",
    "\n",
    "# # Test\n",
    "# for name, model in models.items():\n",
    "#     pipe = make_pipeline(features, model)\n",
    "#     scores = cross_val_score(pipe, X, y, cv=5, scoring=\"balanced_accuracy\")\n",
    "#     print(f\"{name}: {scores.mean():.4f} (+/- {scores.std():.4f})\")"
   ]
  },
  {
   "cell_type": "code",
   "execution_count": null,
   "id": "8703ec7e-d56d-4799-9809-70e0449d6a9d",
   "metadata": {},
   "outputs": [],
   "source": [
    "pipe.fit(emails, labels) "
   ]
  },
  {
   "cell_type": "code",
   "execution_count": null,
   "id": "e88b62db-f827-49bd-aad4-f9aa7dbf4b3d",
   "metadata": {},
   "outputs": [],
   "source": [
    "import os\n",
    "import glob\n",
    "\n",
    "test_zip = glob.glob(\"*test*.zip\")[0]\n",
    "\n",
    "ztest = zipfile.ZipFile(test_zip)\n",
    "test_emails, test_files = [], []\n",
    "\n",
    "for name in ztest.namelist():\n",
    "    if name.endswith(\".labels\"):\n",
    "        continue\n",
    "    base = os.path.basename(name)\n",
    "    if not base.endswith(\".x\"):  \n",
    "        continue\n",
    "    txt = ztest.read(name).decode(\"utf-8\", errors=\"ignore\").lower()\n",
    "    test_emails.append(txt)\n",
    "    test_files.append(name)"
   ]
  },
  {
   "cell_type": "code",
   "execution_count": null,
   "id": "7caddbf9-8d38-4793-b874-69f30cdb1997",
   "metadata": {},
   "outputs": [],
   "source": [
    "predictions = pipe.predict(test_emails)\n",
    "\n",
    "with open(\"predictions.txt\", \"w\") as f:\n",
    "    for path, pred in zip(test_files, predictions):\n",
    "        f.write(f\"{path};{pred}\\n\")"
   ]
  }
 ],
 "metadata": {
  "kernelspec": {
   "display_name": "Python 3 (ipykernel)",
   "language": "python",
   "name": "python3"
  },
  "language_info": {
   "codemirror_mode": {
    "name": "ipython",
    "version": 3
   },
   "file_extension": ".py",
   "mimetype": "text/x-python",
   "name": "python",
   "nbconvert_exporter": "python",
   "pygments_lexer": "ipython3",
   "version": "3.13.5"
  }
 },
 "nbformat": 4,
 "nbformat_minor": 5
}
