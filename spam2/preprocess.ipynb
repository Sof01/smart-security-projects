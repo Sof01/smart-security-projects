{
 "cells": [
  {
   "cell_type": "markdown",
   "id": "5da5e16f",
   "metadata": {},
   "source": [
    "Parsing the Emails (Mailbox format)\n",
    "\n",
    "subject\n",
    "Body\n",
    "Absender\n",
    "time\n",
    "past messages"
   ]
  },
  {
   "cell_type": "code",
   "execution_count": null,
   "id": "5026a6a2",
   "metadata": {},
   "outputs": [
    {
     "ename": "",
     "evalue": "",
     "output_type": "error",
     "traceback": [
      "\u001b[1;31mRunning cells with 'Python 3.13.5' requires the ipykernel package.\n",
      "\u001b[1;31m<a href='command:jupyter.createPythonEnvAndSelectController'>Create a Python Environment</a> with the required packages.\n",
      "\u001b[1;31mOr install 'ipykernel' using the command: '/bin/python3 -m pip install ipykernel -U --user --force-reinstall'"
     ]
    }
   ],
   "source": [
    "import os\n",
    "print(os.getcwd())"
   ]
  },
  {
   "cell_type": "code",
   "execution_count": null,
   "id": "43f82fc3",
   "metadata": {},
   "outputs": [],
   "source": [
    "import os\n",
    "import email\n",
    "from email import policy\n",
    "\n",
    "def extract_body_from_email(path):\n",
    "    with open(path, 'r', encoding='latin1') as f:\n",
    "        msg = email.message_from_file(f, policy=policy.default)\n",
    "    \n",
    "    # If multipart, go through parts\n",
    "    if msg.is_multipart():\n",
    "        parts = []\n",
    "        for part in msg.walk():\n",
    "            content_type = part.get_content_type()\n",
    "            if content_type == 'text/plain':  # we only want the readable part\n",
    "                try:\n",
    "                    parts.append(part.get_payload(decode=True).decode(part.get_content_charset('latin1'), errors='ignore'))\n",
    "                except Exception:\n",
    "                    continue\n",
    "        return '\\n'.join(parts)\n",
    "    else:\n",
    "        # Single-part message\n",
    "        return msg.get_payload(decode=True).decode(msg.get_content_charset('latin1'), errors='ignore')\n"
   ]
  },
  {
   "cell_type": "code",
   "execution_count": null,
   "id": "1214b09e",
   "metadata": {},
   "outputs": [],
   "source": [
    "sample_path = 'data/spam2-train/aahkoctdmjnikvon.0'\n",
    "print(extract_body_from_email(sample_path))"
   ]
  },
  {
   "cell_type": "markdown",
   "id": "94e93d1e",
   "metadata": {},
   "source": [
    "2. Clean and Preprocess the Email Content\n",
    "\n",
    "Once you've extracted the body of the email, you’ll likely need to clean the content:\n",
    "\n",
    "Remove HTML tags (if any) using libraries like BeautifulSoup.\n",
    "\n",
    "Remove unnecessary characters or special symbols.\n",
    "\n",
    "Normalize the text (e.g., converting everything to lowercase).\n",
    "\n",
    "Tokenize the text (split the email into words).\n",
    "\n",
    "Optionally, remove stopwords (commonly used words like \"the\", \"is\", etc.), and lemmatize or stem the words."
   ]
  },
  {
   "cell_type": "code",
   "execution_count": null,
   "id": "b7595ab3",
   "metadata": {},
   "outputs": [],
   "source": []
  },
  {
   "cell_type": "markdown",
   "id": "18c36233",
   "metadata": {},
   "source": [
    "3. Extract Features and Vectorize the Text\n",
    "\n",
    "Next, you need to convert the cleaned text into numerical features that can be used by the machine learning model.\n",
    "\n",
    "TF-IDF Vectorizer: This is the most common method for text data. It transforms the text into a sparse matrix of term frequencies."
   ]
  }
 ],
 "metadata": {
  "kernelspec": {
   "display_name": "Python 3",
   "language": "python",
   "name": "python3"
  },
  "language_info": {
   "name": "python",
   "version": "3.13.5"
  }
 },
 "nbformat": 4,
 "nbformat_minor": 5
}
